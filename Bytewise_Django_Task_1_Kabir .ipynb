{
  "nbformat": 4,
  "nbformat_minor": 0,
  "metadata": {
    "colab": {
      "provenance": []
    },
    "kernelspec": {
      "name": "python3",
      "display_name": "Python 3"
    },
    "language_info": {
      "name": "python"
    }
  },
  "cells": [
    {
      "cell_type": "markdown",
      "source": [
        "Write a Python program that prints the string \"Hello Python\" to the console."
      ],
      "metadata": {
        "id": "kZrWRYfpIy1I"
      }
    },
    {
      "cell_type": "code",
      "source": [
        "print(\"Hello World\")"
      ],
      "metadata": {
        "colab": {
          "base_uri": "https://localhost:8080/"
        },
        "id": "kOvepZhBIyUn",
        "outputId": "37d31818-483d-4f80-e235-830fb04b6c2f"
      },
      "execution_count": null,
      "outputs": [
        {
          "output_type": "stream",
          "name": "stdout",
          "text": [
            "Hello World\n"
          ]
        }
      ]
    },
    {
      "cell_type": "markdown",
      "source": [
        "Write a Python program that performs addition, subtraction,multiplication, and division of two numbers input by the user."
      ],
      "metadata": {
        "id": "7i4wkoKcI8yW"
      }
    },
    {
      "cell_type": "code",
      "execution_count": null,
      "metadata": {
        "id": "BTC9qawdWwWM",
        "colab": {
          "base_uri": "https://localhost:8080/"
        },
        "outputId": "7e133b26-db5c-442d-bfaa-972f1ae848cf"
      },
      "outputs": [
        {
          "output_type": "stream",
          "name": "stdout",
          "text": [
            "Enter first number: 3\n",
            "Enter second number: 10\n",
            "Sum:  {13}\n",
            "Sub:  {-7}\n",
            "multiply:  {30}\n",
            "divide:  {3.3333333333333335}\n"
          ]
        }
      ],
      "source": [
        "def function(a,b):\n",
        "  print(\"Sum: \",{a+b})\n",
        "  print(\"Sub: \",{a-b})\n",
        "  print(\"multiply: \",{a*b})\n",
        "  if(a>b):\n",
        "    print(\"divide: \",{a/b})\n",
        "  else:\n",
        "    print(\"divide: \",{b/a})\n",
        "a= int(input(\"Enter first number: \"))\n",
        "b= int(input(\"Enter second number: \"))\n",
        "\n",
        "function(a,b)"
      ]
    },
    {
      "cell_type": "markdown",
      "source": [
        "Write a Python program to generate and print a random number between a specified range."
      ],
      "metadata": {
        "id": "pX3bdyZkNdlk"
      }
    },
    {
      "cell_type": "code",
      "source": [
        "import random as rd\n",
        "\n",
        "x= rd.randint(1,100)\n",
        "print(x)\n"
      ],
      "metadata": {
        "colab": {
          "base_uri": "https://localhost:8080/"
        },
        "id": "jPGOi81JNeKh",
        "outputId": "b70f26d9-d2bb-4027-d1a6-067bed5be267"
      },
      "execution_count": null,
      "outputs": [
        {
          "output_type": "stream",
          "name": "stdout",
          "text": [
            "64\n"
          ]
        }
      ]
    },
    {
      "cell_type": "markdown",
      "source": [
        "Write a Python program to display the calendar of a given month and year."
      ],
      "metadata": {
        "id": "UP552WPsN2tr"
      }
    },
    {
      "cell_type": "code",
      "source": [
        "import calendar\n",
        "\n",
        "def display_calendar(year, month):\n",
        "    cal = calendar.TextCalendar(calendar.SUNDAY)\n",
        "    month_calendar = cal.formatmonth(year, month)\n",
        "    print(month_calendar)\n",
        "\n",
        "\n",
        "year = int(input(\"Enter the year (e.g., 2024): \"))\n",
        "month = int(input(\"Enter the month (1-12): \"))\n",
        "display_calendar(year, month)\n",
        "\n"
      ],
      "metadata": {
        "colab": {
          "base_uri": "https://localhost:8080/"
        },
        "id": "Mo0cxXR1N5Xw",
        "outputId": "39a4bea5-2734-4a3e-a3a2-293af6f4b410"
      },
      "execution_count": null,
      "outputs": [
        {
          "output_type": "stream",
          "name": "stdout",
          "text": [
            "Enter the year (e.g., 2024): 2024\n",
            "Enter the month (1-12): 6\n",
            "     June 2024\n",
            "Su Mo Tu We Th Fr Sa\n",
            "                   1\n",
            " 2  3  4  5  6  7  8\n",
            " 9 10 11 12 13 14 15\n",
            "16 17 18 19 20 21 22\n",
            "23 24 25 26 27 28 29\n",
            "30\n",
            "\n"
          ]
        }
      ]
    },
    {
      "cell_type": "markdown",
      "source": [
        "Write a Python program to check if a given year is a leap year."
      ],
      "metadata": {
        "id": "xfik4tjePLBj"
      }
    },
    {
      "cell_type": "code",
      "source": [
        "def is_leap_year(year):\n",
        "\n",
        "    if (year % 4 == 0 and year % 100 != 0) or (year % 400 == 0):\n",
        "        print(\"Leap Year\")\n",
        "    else:\n",
        "        print(\"Its not a Leap Year\")\n",
        "\n",
        "y=int(input(\"Write the year :  \"))\n",
        "is_leap_year(y)\n"
      ],
      "metadata": {
        "colab": {
          "base_uri": "https://localhost:8080/"
        },
        "id": "7HBtCnLTPNq5",
        "outputId": "db9fbbd3-eb2b-497b-d1a0-18fb47d7587a"
      },
      "execution_count": null,
      "outputs": [
        {
          "output_type": "stream",
          "name": "stdout",
          "text": [
            "Write the year :  2023\n",
            "Its not a Leap Year\n"
          ]
        }
      ]
    },
    {
      "cell_type": "markdown",
      "source": [
        "Write a Python program to print all prime numbers within a specified range."
      ],
      "metadata": {
        "id": "QHgg2LKQQ2UR"
      }
    },
    {
      "cell_type": "code",
      "source": [
        "def is_prime(n):\n",
        "    if n <= 1:\n",
        "        return False\n",
        "    if n == 2:\n",
        "        return True\n",
        "    if n % 2 == 0:\n",
        "        return False\n",
        "    for i in range(3, int(n**0.5) + 1, 2):\n",
        "        if n % i == 0:\n",
        "            return False\n",
        "    return True\n",
        "\n",
        "def print_primes_in_range(start, end):\n",
        "    print(f\"Prime numbers between {start} and {end}:\")\n",
        "    for num in range(start, end + 1):\n",
        "        if is_prime(num):\n",
        "            print(num, end=' ')\n",
        "    print()\n",
        "\n",
        "\n",
        "start = int(input(\"Enter the start of the range: \"))\n",
        "end = int(input(\"Enter the end of the range: \"))\n",
        "print_primes_in_range(start, end)"
      ],
      "metadata": {
        "colab": {
          "base_uri": "https://localhost:8080/"
        },
        "id": "vpRxDDZQQ4WT",
        "outputId": "3ed546d1-97dc-428a-ceae-da289928e537"
      },
      "execution_count": 2,
      "outputs": [
        {
          "output_type": "stream",
          "name": "stdout",
          "text": [
            "Enter the start of the range: 2\n",
            "Enter the end of the range: 13\n",
            "Prime numbers between 2 and 13:\n",
            "2 3 5 7 11 13 \n"
          ]
        }
      ]
    },
    {
      "cell_type": "markdown",
      "source": [
        "Write a Python program to print the Fibonacci sequence up to a specified number of terms."
      ],
      "metadata": {
        "id": "M8wjdBV8VY9_"
      }
    },
    {
      "cell_type": "code",
      "source": [
        "def factorial(n):\n",
        "    if n == 0:\n",
        "        return 1\n",
        "    else:\n",
        "        return n * factorial(n - 1)\n",
        "\n",
        "\n",
        "number = int(input(\"Enter a number to find its factorial: \"))\n",
        "print(f\"The factorial of {number} is {factorial(number)}\")\n"
      ],
      "metadata": {
        "id": "B4NSJJY7esw2",
        "colab": {
          "base_uri": "https://localhost:8080/"
        },
        "outputId": "8ac6cb5c-f3e1-41f4-ad9d-ae99ab8bef2a"
      },
      "execution_count": 5,
      "outputs": [
        {
          "output_type": "stream",
          "name": "stdout",
          "text": [
            "Enter a number to find its factorial: 4\n",
            "The factorial of 4 is 24\n"
          ]
        }
      ]
    },
    {
      "cell_type": "markdown",
      "source": [
        "Write a Python program to find all Armstrong numbers within a specified range."
      ],
      "metadata": {
        "id": "c0S_ofRBWOM1"
      }
    },
    {
      "cell_type": "code",
      "source": [
        "def fibonacci(n):\n",
        "    sequence = []\n",
        "    a, b = 0, 1\n",
        "    for _ in range(n):\n",
        "        sequence.append(a)\n",
        "        a, b = b, a + b\n",
        "    return sequence\n",
        "\n",
        "\n",
        "terms = int(input(\"Enter the number of terms in the Fibonacci sequence: \"))\n",
        "print(f\"The first {terms} terms of the Fibonacci sequence are: {fibonacci(terms)}\")\n"
      ],
      "metadata": {
        "colab": {
          "base_uri": "https://localhost:8080/"
        },
        "id": "bZJGl71sWTKM",
        "outputId": "cecb1026-8b0f-4046-ead6-9e08ab412965"
      },
      "execution_count": 6,
      "outputs": [
        {
          "output_type": "stream",
          "name": "stdout",
          "text": [
            "Enter the number of terms in the Fibonacci sequence: 5\n",
            "The first 5 terms of the Fibonacci sequence are: [0, 1, 1, 2, 3]\n"
          ]
        }
      ]
    },
    {
      "cell_type": "markdown",
      "source": [
        "Write a Python program to print the reverse of a string input by the user."
      ],
      "metadata": {
        "id": "59tYGwfjW7P7"
      }
    },
    {
      "cell_type": "code",
      "source": [
        "def reverse_string(s):\n",
        "    return s[::-1]\n",
        "\n",
        "\n",
        "input_string = input(\"Enter a string to reverse: \")\n",
        "print(f\"The reverse of the string is: {reverse_string(input_string)}\")\n"
      ],
      "metadata": {
        "colab": {
          "base_uri": "https://localhost:8080/"
        },
        "id": "xIBUHPZpXCO2",
        "outputId": "da7684dc-5328-48cf-9fe0-5cec7938b199"
      },
      "execution_count": 7,
      "outputs": [
        {
          "output_type": "stream",
          "name": "stdout",
          "text": [
            "Enter a string to reverse: kabir\n",
            "The reverse of the string is: ribak\n"
          ]
        }
      ]
    },
    {
      "cell_type": "markdown",
      "source": [
        "Write a Python program to calculate and print the sum of the first ten natural numbers."
      ],
      "metadata": {
        "id": "vfMsrJZ5XGsY"
      }
    },
    {
      "cell_type": "code",
      "source": [
        "def sum_of_first_ten_natural_numbers():\n",
        "    return sum(range(1, 11))\n",
        "\n",
        "\n",
        "print(f\"The sum of the first ten natural numbers is: {sum_of_first_ten_natural_numbers()}\")\n"
      ],
      "metadata": {
        "colab": {
          "base_uri": "https://localhost:8080/"
        },
        "id": "Ct1jxnpmXJuo",
        "outputId": "681c1d30-482d-4a68-8980-ca4215107158"
      },
      "execution_count": 8,
      "outputs": [
        {
          "output_type": "stream",
          "name": "stdout",
          "text": [
            "The sum of the first ten natural numbers is: 55\n"
          ]
        }
      ]
    }
  ]
}